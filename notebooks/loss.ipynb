{
 "cells": [
  {
   "cell_type": "markdown",
   "metadata": {
    "colab_type": "text",
    "id": "syPpKB-CtJGC"
   },
   "source": [
    "#◢ Setup"
   ]
  },
  {
   "cell_type": "code",
   "execution_count": 238,
   "metadata": {},
   "outputs": [
    {
     "name": "stdout",
     "output_type": "stream",
     "text": [
      "The autoreload extension is already loaded. To reload it, use:\n",
      "  %reload_ext autoreload\n"
     ]
    }
   ],
   "source": [
    "import sys\n",
    "import os\n",
    "import json\n",
    "from itertools import groupby\n",
    "from operator import itemgetter\n",
    "from typing import List, Tuple, Dict\n",
    "\n",
    "import gin\n",
    "import numpy as np\n",
    "import pandas as pd\n",
    "import tensorflow as tf\n",
    "import matplotlib.pyplot as plt\n",
    "\n",
    "sys.path.append('..')\n",
    "\n",
    "from vehicle_nowcasting.data.data_loader import build_source_from_metadata, make_dataset, generate_anchors\n",
    "from vehicle_nowcasting.data.generate_anchors import generate_anchors as gen_anch\n",
    "from vehicle_nowcasting.utils import iou, plot_bb, change_box_order\n",
    "\n",
    "%matplotlib inline\n",
    "%load_ext autoreload\n",
    "%autoreload 2"
   ]
  },
  {
   "cell_type": "markdown",
   "metadata": {},
   "source": [
    "##◢ Load metadata"
   ]
  },
  {
   "cell_type": "code",
   "execution_count": 239,
   "metadata": {},
   "outputs": [],
   "source": [
    "main_dir = '..'\n",
    "data_dir = os.path.join(main_dir, 'data')\n",
    "metadata = pd.read_csv('../data/metadata.csv')\n",
    "label_map = json.load(open('../data/label_map.json', 'r'))"
   ]
  },
  {
   "cell_type": "code",
   "execution_count": 240,
   "metadata": {},
   "outputs": [],
   "source": [
    "sources = build_source_from_metadata(metadata,\n",
    "                                     label_map,\n",
    "                                     data_dir)"
   ]
  },
  {
   "cell_type": "code",
   "execution_count": 241,
   "metadata": {},
   "outputs": [],
   "source": [
    "ds = make_dataset(sources)"
   ]
  },
  {
   "cell_type": "code",
   "execution_count": 266,
   "metadata": {},
   "outputs": [],
   "source": [
    "anch = tf.constant(gen_anch(base_size=4,\n",
    "                               ratios=[1, 1.25, 1.5, 1.75, 2, 2.25, 2.5],\n",
    "                               scales=2 ** np.arange(3, 10)))\n",
    "#anchors = change_box_order(anchors, with_classes=False)"
   ]
  },
  {
   "cell_type": "code",
   "execution_count": 199,
   "metadata": {},
   "outputs": [],
   "source": [
    "bbox = next(iter(ds))[1][:, 1:]\n",
    "bbox_ = change_box_order(tf.cast(bbox[:, 1:], tf.float64), with_classes=False)"
   ]
  },
  {
   "cell_type": "code",
   "execution_count": 250,
   "metadata": {},
   "outputs": [],
   "source": [
    "anch = change_box_order(anch, with_classes=False)\n",
    "anchors = change_box_order(anchors, with_classes=False)\n",
    "#anchors = tf.reshape(anchors[:, -2:], (1, 2, -1))"
   ]
  },
  {
   "cell_type": "code",
   "execution_count": 209,
   "metadata": {},
   "outputs": [],
   "source": [
    "foo = tf.reshape(anchors[:, 2:] - anchors[:, :2], (1, 2, -1))"
   ]
  },
  {
   "cell_type": "code",
   "execution_count": 214,
   "metadata": {},
   "outputs": [],
   "source": [
    "var = tf.reshape(bbox[:, 2:] - bbox[:, :2], (-1, 2, 1))\n",
    "var = tf.cast(var, tf.float64)"
   ]
  },
  {
   "cell_type": "code",
   "execution_count": 227,
   "metadata": {},
   "outputs": [],
   "source": [
    "cond = (foo - var < EPS)\n",
    "#cond = cond[:, 0, :] == cond[:, 1, :]"
   ]
  }
 ],
 "metadata": {
  "kernelspec": {
   "display_name": "Python 3",
   "language": "python",
   "name": "python3"
  },
  "language_info": {
   "codemirror_mode": {
    "name": "ipython",
    "version": 3
   },
   "file_extension": ".py",
   "mimetype": "text/x-python",
   "name": "python",
   "nbconvert_exporter": "python",
   "pygments_lexer": "ipython3",
   "version": "3.6.8"
  }
 },
 "nbformat": 4,
 "nbformat_minor": 4
}
