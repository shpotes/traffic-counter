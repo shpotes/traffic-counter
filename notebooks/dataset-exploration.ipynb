{
 "cells": [
  {
   "cell_type": "code",
   "execution_count": 3,
   "metadata": {},
   "outputs": [],
   "source": [
    "import xml.etree.ElementTree as ET\n",
    "import pandas as pd\n",
    "import os\n",
    "from tqdm import tqdm"
   ]
  },
  {
   "cell_type": "code",
   "execution_count": 4,
   "metadata": {},
   "outputs": [
    {
     "name": "stderr",
     "output_type": "stream",
     "text": [
      "\r",
      "  0%|          | 0/60 [00:00<?, ?it/s]"
     ]
    },
    {
     "name": "stdout",
     "output_type": "stream",
     "text": [
      "/home/santiago/Projects/object-detection/data/raw\n"
     ]
    },
    {
     "name": "stderr",
     "output_type": "stream",
     "text": [
      "100%|██████████| 60/60 [00:23<00:00,  3.21it/s]\n"
     ]
    }
   ],
   "source": [
    "%cd ../data/raw/\n",
    "data = []\n",
    "for seq in tqdm(os.listdir('DETRAC-Train-Annotations-XML/')):\n",
    "    tree = ET.parse('DETRAC-Train-Annotations-XML/' + seq)\n",
    "    root = tree.getroot()\n",
    "    vid = root.attrib['name']\n",
    "\n",
    "    for frame in iter(root):\n",
    "        if frame.tag == 'frame':\n",
    "            frame_number = frame.attrib['num']\n",
    "            for target in frame[0]:\n",
    "                \n",
    "                box, attrib = tuple(iter(target))[:2]\n",
    "                cat = attrib.attrib['vehicle_type']\n",
    "                box = list(map(float, box.attrib.values()))\n",
    "                tmp = [vid, frame_number] + box + [cat]\n",
    "                data.append(tmp)"
   ]
  },
  {
   "cell_type": "code",
   "execution_count": 5,
   "metadata": {},
   "outputs": [],
   "source": [
    "data = pd.DataFrame(data)"
   ]
  },
  {
   "cell_type": "code",
   "execution_count": 6,
   "metadata": {},
   "outputs": [],
   "source": [
    "data.columns = ['video', 'frame', 'left', 'top', 'wigth', 'height', 'category']"
   ]
  },
  {
   "cell_type": "code",
   "execution_count": 53,
   "metadata": {},
   "outputs": [
    {
     "data": {
      "text/plain": [
       "0         Insight-MVT_Annotation_Train/MVI_40992/img0000...\n",
       "1         Insight-MVT_Annotation_Train/MVI_40992/img0000...\n",
       "2         Insight-MVT_Annotation_Train/MVI_40992/img0000...\n",
       "3         Insight-MVT_Annotation_Train/MVI_40992/img0000...\n",
       "4         Insight-MVT_Annotation_Train/MVI_40992/img0000...\n",
       "5         Insight-MVT_Annotation_Train/MVI_40992/img0000...\n",
       "6         Insight-MVT_Annotation_Train/MVI_40992/img0000...\n",
       "7         Insight-MVT_Annotation_Train/MVI_40992/img0000...\n",
       "8         Insight-MVT_Annotation_Train/MVI_40992/img0000...\n",
       "9         Insight-MVT_Annotation_Train/MVI_40992/img0000...\n",
       "10        Insight-MVT_Annotation_Train/MVI_40992/img0000...\n",
       "11        Insight-MVT_Annotation_Train/MVI_40992/img0000...\n",
       "12        Insight-MVT_Annotation_Train/MVI_40992/img0000...\n",
       "13        Insight-MVT_Annotation_Train/MVI_40992/img0000...\n",
       "14        Insight-MVT_Annotation_Train/MVI_40992/img0000...\n",
       "15        Insight-MVT_Annotation_Train/MVI_40992/img0000...\n",
       "16        Insight-MVT_Annotation_Train/MVI_40992/img0000...\n",
       "17        Insight-MVT_Annotation_Train/MVI_40992/img0000...\n",
       "18        Insight-MVT_Annotation_Train/MVI_40992/img0001...\n",
       "19        Insight-MVT_Annotation_Train/MVI_40992/img0001...\n",
       "20        Insight-MVT_Annotation_Train/MVI_40992/img0001...\n",
       "21        Insight-MVT_Annotation_Train/MVI_40992/img0001...\n",
       "22        Insight-MVT_Annotation_Train/MVI_40992/img0001...\n",
       "23        Insight-MVT_Annotation_Train/MVI_40992/img0001...\n",
       "24        Insight-MVT_Annotation_Train/MVI_40992/img0001...\n",
       "25        Insight-MVT_Annotation_Train/MVI_40992/img0001...\n",
       "26        Insight-MVT_Annotation_Train/MVI_40992/img0001...\n",
       "27        Insight-MVT_Annotation_Train/MVI_40992/img0001...\n",
       "28        Insight-MVT_Annotation_Train/MVI_40992/img0001...\n",
       "29        Insight-MVT_Annotation_Train/MVI_40992/img0001...\n",
       "                                ...                        \n",
       "598251    Insight-MVT_Annotation_Train/MVI_63563/img0138...\n",
       "598252    Insight-MVT_Annotation_Train/MVI_63563/img0138...\n",
       "598253    Insight-MVT_Annotation_Train/MVI_63563/img0138...\n",
       "598254    Insight-MVT_Annotation_Train/MVI_63563/img0138...\n",
       "598255    Insight-MVT_Annotation_Train/MVI_63563/img0138...\n",
       "598256    Insight-MVT_Annotation_Train/MVI_63563/img0138...\n",
       "598257    Insight-MVT_Annotation_Train/MVI_63563/img0138...\n",
       "598258    Insight-MVT_Annotation_Train/MVI_63563/img0138...\n",
       "598259    Insight-MVT_Annotation_Train/MVI_63563/img0138...\n",
       "598260    Insight-MVT_Annotation_Train/MVI_63563/img0138...\n",
       "598261    Insight-MVT_Annotation_Train/MVI_63563/img0138...\n",
       "598262    Insight-MVT_Annotation_Train/MVI_63563/img0138...\n",
       "598263    Insight-MVT_Annotation_Train/MVI_63563/img0138...\n",
       "598264    Insight-MVT_Annotation_Train/MVI_63563/img0138...\n",
       "598265    Insight-MVT_Annotation_Train/MVI_63563/img0138...\n",
       "598266    Insight-MVT_Annotation_Train/MVI_63563/img0138...\n",
       "598267    Insight-MVT_Annotation_Train/MVI_63563/img0138...\n",
       "598268    Insight-MVT_Annotation_Train/MVI_63563/img0138...\n",
       "598269    Insight-MVT_Annotation_Train/MVI_63563/img0138...\n",
       "598270    Insight-MVT_Annotation_Train/MVI_63563/img0138...\n",
       "598271    Insight-MVT_Annotation_Train/MVI_63563/img0138...\n",
       "598272    Insight-MVT_Annotation_Train/MVI_63563/img0138...\n",
       "598273    Insight-MVT_Annotation_Train/MVI_63563/img0138...\n",
       "598274    Insight-MVT_Annotation_Train/MVI_63563/img0138...\n",
       "598275    Insight-MVT_Annotation_Train/MVI_63563/img0139...\n",
       "598276    Insight-MVT_Annotation_Train/MVI_63563/img0139...\n",
       "598277    Insight-MVT_Annotation_Train/MVI_63563/img0139...\n",
       "598278    Insight-MVT_Annotation_Train/MVI_63563/img0139...\n",
       "598279    Insight-MVT_Annotation_Train/MVI_63563/img0139...\n",
       "598280    Insight-MVT_Annotation_Train/MVI_63563/img0139...\n",
       "Length: 598281, dtype: object"
      ]
     },
     "execution_count": 53,
     "metadata": {},
     "output_type": "execute_result"
    }
   ],
   "source": [
    "data.T.apply(lambda x: 'Insight-MVT_Annotation_Train/%s/img%05d.jpg' % (x.video, int(x.frame)))"
   ]
  },
  {
   "cell_type": "code",
   "execution_count": 12,
   "metadata": {},
   "outputs": [],
   "source": [
    "def split(x):\n",
    "    hs = hash(x.video + x.frame) % 100  + 1\n",
    "    if hs < 80:\n",
    "        return 'train'\n",
    "    elif hs < 90:\n",
    "        return 'test'\n",
    "    return 'val'"
   ]
  },
  {
   "cell_type": "code",
   "execution_count": 15,
   "metadata": {},
   "outputs": [],
   "source": [
    "spl = _ "
   ]
  },
  {
   "cell_type": "code",
   "execution_count": 18,
   "metadata": {},
   "outputs": [],
   "source": [
    "data['split'] = spl"
   ]
  },
  {
   "cell_type": "code",
   "execution_count": 20,
   "metadata": {},
   "outputs": [],
   "source": [
    "data['file'] = data.video + data.frame"
   ]
  },
  {
   "cell_type": "code",
   "execution_count": 28,
   "metadata": {},
   "outputs": [
    {
     "data": {
      "text/plain": [
       "train    64826\n",
       "val       8981\n",
       "test      8278\n",
       "Name: split, dtype: int64"
      ]
     },
     "execution_count": 28,
     "metadata": {},
     "output_type": "execute_result"
    }
   ],
   "source": [
    "data[['file', 'split']].drop_duplicates().split.value_counts()"
   ]
  },
  {
   "cell_type": "code",
   "execution_count": null,
   "metadata": {},
   "outputs": [],
   "source": []
  }
 ],
 "metadata": {
  "kernelspec": {
   "display_name": "Python 3",
   "language": "python",
   "name": "python3"
  },
  "language_info": {
   "codemirror_mode": {
    "name": "ipython",
    "version": 3
   },
   "file_extension": ".py",
   "mimetype": "text/x-python",
   "name": "python",
   "nbconvert_exporter": "python",
   "pygments_lexer": "ipython3",
   "version": "3.6.7"
  }
 },
 "nbformat": 4,
 "nbformat_minor": 2
}
